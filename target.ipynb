{
  "cells": [
    {
      "cell_type": "markdown",
      "metadata": {
        "id": "view-in-github",
        "colab_type": "text"
      },
      "source": [
        "<a href=\"https://colab.research.google.com/github/catbrower/QuantFinance/blob/target/target.ipynb\" target=\"_parent\"><img src=\"https://colab.research.google.com/assets/colab-badge.svg\" alt=\"Open In Colab\"/></a>"
      ]
    },
    {
      "cell_type": "code",
      "source": [
        "# mongodb max and min timestamp values\n",
        "\n",
        "# see for more on performance\n",
        "# https://stackoverflow.com/questions/32076382/mongodb-how-to-get-max-value-from-collections\n",
        "def get_max_min_timestamp(collection):\n",
        "  db.collection.find().sort({age:-1}).limit(1) // for MAX\n",
        "  db.collection.find().sort({age:+1}).limit(1) // for MIN\n",
        "\n",
        "  # convert these timestamps (in secods) to datetime objects\n",
        "  # then we can use them as a daily date iterator to go day by day\n",
        "  # and process daily technical indicators in parallel using ray\n",
        "\n",
        "  "
      ],
      "metadata": {
        "id": "CiO_f-ZFIQ_u"
      },
      "execution_count": null,
      "outputs": []
    }
  ],
  "metadata": {
    "colab": {
      "name": "target",
      "toc_visible": true,
      "provenance": [],
      "include_colab_link": true
    },
    "kernelspec": {
      "display_name": "Python 3",
      "name": "python3"
    }
  },
  "nbformat": 4,
  "nbformat_minor": 0
}